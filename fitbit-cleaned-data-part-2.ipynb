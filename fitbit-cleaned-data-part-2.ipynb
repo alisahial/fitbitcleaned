{
 "cells": [
  {
   "cell_type": "markdown",
   "id": "a501c959",
   "metadata": {
    "papermill": {
     "duration": 0.002544,
     "end_time": "2024-01-28T04:48:25.908602",
     "exception": false,
     "start_time": "2024-01-28T04:48:25.906058",
     "status": "completed"
    },
    "tags": []
   },
   "source": []
  },
  {
   "cell_type": "markdown",
   "id": "03864456",
   "metadata": {
    "papermill": {
     "duration": 0.001661,
     "end_time": "2024-01-28T04:48:25.912306",
     "exception": false,
     "start_time": "2024-01-28T04:48:25.910645",
     "status": "completed"
    },
    "tags": []
   },
   "source": [
    "--METs\n",
    "\n",
    "SELECT DISTINCT temp1.id, \n",
    "    temp1.activity_minute, \n",
    "    SUM(temp1.METs)/24 as avg_mets, \n",
    "    temp2.Calories\n",
    "FROM `fluid-tuner-406721.FitBit_Case_Study.METs_minute` as temp1\n",
    "INNER JOIN fluid-tuner-406721.FitBit_Case_Study.daily_activity AS temp2\n",
    "ON temp1.id = temp2.id \n",
    "Group By temp1.Id, temp1.activity_minute, temp2.Calories\n",
    "Order by Id,activity_minute;"
   ]
  },
  {
   "cell_type": "markdown",
   "id": "dac66db8",
   "metadata": {
    "papermill": {
     "duration": 0.001638,
     "end_time": "2024-01-28T04:48:25.915882",
     "exception": false,
     "start_time": "2024-01-28T04:48:25.914244",
     "status": "completed"
    },
    "tags": []
   },
   "source": [
    "![](http://)"
   ]
  },
  {
   "cell_type": "markdown",
   "id": "1c0bcbf4",
   "metadata": {
    "papermill": {
     "duration": 0.001564,
     "end_time": "2024-01-28T04:48:25.919232",
     "exception": false,
     "start_time": "2024-01-28T04:48:25.917668",
     "status": "completed"
    },
    "tags": []
   },
   "source": [
    "**CONCLUSION**: Our data reveals a positive link between METs (activity level) and calorie burn."
   ]
  },
  {
   "cell_type": "markdown",
   "id": "880c04b8",
   "metadata": {
    "papermill": {
     "duration": 0.002554,
     "end_time": "2024-01-28T04:48:25.923589",
     "exception": false,
     "start_time": "2024-01-28T04:48:25.921035",
     "status": "completed"
    },
    "tags": []
   },
   "source": [
    "## <font color='#E2A76F'>6. ACT Phase</font> <a class=\"anchor\" id=\"act\"></a>\n",
    "\n",
    "### 6.1 Conclusion <a class=\"anchor\" id=\"conclusion\"></a> \n",
    "\n",
    "The global fitness tracker market size was valued at 47 billion dollar in 2022 & is projected to grow from  53.94 billion dollar  in 2023 to $182.90 billion by 2030. To succeed in this competitive market, the fitness band company needs to have a strong marketing strategy. By diving into Fitbit user data, we gain invaluable insights into real-world fitness watch usage. This unveils both market gaps and user preferences, empowering us to tailor Bellabeat and highlight features that truly resonate with the audience. The most important data points is as follows:\n",
    "\n",
    "* 1. _High engagement_: 64% of users logged data for the entire data time period of 31 days. This shows that users are actively tracking their progress.\n",
    "\n",
    "* 2. _Potential for improvement_: 8% of non-usage (72 missed wearings) indicates room for improvement in encouraging consistent wear. Tuesday emerges as the day with the most missed wearings. \n",
    "\n",
    "* 3. _CDC Activity Length Recommendations_:  On average, 27 of the 33 users met the CDC Activity Length Recommendations, while 6 did not (Very Active, Fairly Active & Lightly active minutes together). \n",
    "\n",
    "* 4. _High average sedentary minutes_: Average sedentary minutes of 931.78 minutes (15 hours 31.78 minutes). The average sedentary time might be higher than recommended guidelines. For instance, some health organizations recommend limiting sitting time to less than 8 hours per day. 81% of the time by all users was spent on sedentary time hence they possibly have a less active lifestyle.\n",
    " \n",
    "* 5.  Very active minutes, fairly active minutes & Lightly active minutes rise a little during Saturdays and similarly sedendary activity does fall a little suggesting users are more likely to engage in physical activities on weekends compared to weekdays. Weekends present an opportunity to encourage and sustain healthy activity levels. By delving deeper into the reasons behind this trend and tailoring interventions accordingly, you can help users maintain a more active lifestyle throughout the week.\n",
    " \n",
    "* 6. 5 PM -7 PM is the duration of highest calories burned and hence could be the desired time of workout for all the users combined on an average.\n",
    "  \n",
    "* 7. The relationship between People who slept better and burned calories seems to be positive. Users averaging around 7 hours of sleep consistently. "
   ]
  },
  {
   "cell_type": "markdown",
   "id": "925a8685",
   "metadata": {
    "papermill": {
     "duration": 0.001752,
     "end_time": "2024-01-28T04:48:25.927587",
     "exception": false,
     "start_time": "2024-01-28T04:48:25.925835",
     "status": "completed"
    },
    "tags": []
   },
   "source": [
    "### 6.2 Recommendations <a class=\"anchor\" id=\"recommendations\"></a>\n",
    "\n",
    "**_1. Digital Marketting_**:\n",
    "\n",
    "   **A. Partner with influencers to promote Ivy health tracker**: As seen in the above analysis, all 33 users have logged in  step, activity instensity and calorie burned features on Fitbit, Bellabeat can effectively reach its target audience by partnering with relevant influencers: a fitness expert and a registered dietitian. They can also offer exclusive discounts and promotions to influencers' followers. Schedule social media posts and email campaigns for early morning audiences.\n",
    "   \n",
    "   \n",
    "   **B. Run targeted advertising campaigns on social media and search engines**: The data tells one thing: That 81% of the time by all users was spent on sedentary time hence they possibly have a desk job. Therefore we can Craft targeted ads showcasing Bellabeat's features like activity reminders and step challenges as the antidote to sedentary desk jobs. Target platforms frequented by professional women on Facebook, LinkedIn, and fitness-focused Instagram accounts.\n",
    "   \n",
    "  **C.Create engaging social media content**: Since social media is the prefered mode of advertisment for Bellabeat. We can feature real Bellabeat users sharing their fitness journeys, showcasing product features, and offering helpful tips. Feature inspiring stories of women overcoming challenges and achieving their goals with Bellabeat by their side.\n",
    "   \n",
    "   **D. Search Engine Optimization (SEO)** : Optimize BellaBeat's website and content for relevant keywords like \"women's fitness tracker,\" \"desk job wellness,\" and \" menstrual cycle recorder\", \"pregnancy-safe workouts\" to reach potential customers organically.\n",
    "   \n",
    " **_2. Embrace Heart and Weight_** : Analyze the underutilized features like heart rate and weight tracking. Consider developing content, challenges, or integrations focused on these aspects to cater to a wider range of user interests and goals which could be a possible market gap. \n",
    "\n",
    "**_3.Segmentation and Targeting_**:\n",
    "\n",
    "   **A. Data insights reveal a key opportunity: some customers bought the fitbit band but haven't fully embraced its potential. For such existing customers following approach can be followed**\n",
    "\n",
    "* 1. _Personalized nudges_: Trigger targeted emails highlighting the benefits of increased activity based on individual user data. Showcase how small, attainable steps lead to big health improvements.\n",
    "* 2. _Playful motivators_: Send gentle app notifications reminding users to move, offering playful challenges based on their inactivity patterns. Celebrate milestones with virtual high-fives and encourage progress with fun rewards.\n",
    "* 3. _Sleep for Strength_: Leverage sleep data to send personalized app notifications with sleep coaching tips. Emphasize the link between quality sleep and boosted energy, improved activity levels, and overall well-being.\n",
    "* 4. _Challenge them to shine_: Design bite-sized nightly sleep challenges, like achieving a specific sleep duration or maintaining a consistent sleep schedule, to encourage healthy sleep habits in a fun and engaging way.\n",
    "\n",
    "**B. Position the band as the \"after-work empowerment tool\"**: Since Post-office workouts seem to be popular amongst our sample group we can frame evening workouts as a way to de-stress, boost energy, and reclaim control after a busy day. \n",
    "      \n",
    "**_4. Emphasize data and insights_** : Fitbit is known for its data-driven approach to fitness tracking. The brand uses data to provide users with insights into their activity levels, sleep patterns, and overall health. Bellabeat can differentiate itself by offering even more advanced data and insights, such as personalized fitness plans, health recommendations, and integration with other health apps.\n",
    "\n",
    "**_5. Community Connection_** : Foster a vibrant online community through social media groups, interactive forums, and virtual workout sessions. Encourage users to share tips, support each other, and celebrate achievements together.\n",
    "\n",
    "**_6. Product Development and Improvement_**:\n",
    "  * A. Our data shows the sample users as early risers. Develop features specifically for early mornings, like customizable sunrise alarms, guided meditation sessions for stress reduction, or benefit of a quick workout routines for before work.\n",
    "  * B. Weekly progress report with segregation of weekday-weekend reports can be given to users to keep them motivated for the whole week. \n",
    "\n",
    "**Additional Considerations**\n",
    "* 1. Data privacy: Ensure you comply with all data privacy regulations and protect user data.\n",
    "* 2. Ethical marketing: Avoid using misleading or deceptive marketing practices.\n",
    "* 3. Transparency: Be transparent about your data collection and usage practices."
   ]
  },
  {
   "cell_type": "markdown",
   "id": "40738424",
   "metadata": {
    "papermill": {
     "duration": 0.001779,
     "end_time": "2024-01-28T04:48:25.931388",
     "exception": false,
     "start_time": "2024-01-28T04:48:25.929609",
     "status": "completed"
    },
    "tags": []
   },
   "source": []
  }
 ],
 "metadata": {
  "kaggle": {
   "accelerator": "none",
   "dataSources": [],
   "isGpuEnabled": false,
   "isInternetEnabled": true,
   "language": "python",
   "sourceType": "notebook"
  },
  "kernelspec": {
   "display_name": "Python 3",
   "language": "python",
   "name": "python3"
  },
  "language_info": {
   "codemirror_mode": {
    "name": "ipython",
    "version": 3
   },
   "file_extension": ".py",
   "mimetype": "text/x-python",
   "name": "python",
   "nbconvert_exporter": "python",
   "pygments_lexer": "ipython3",
   "version": "3.10.12"
  },
  "papermill": {
   "default_parameters": {},
   "duration": 3.21052,
   "end_time": "2024-01-28T04:48:26.354619",
   "environment_variables": {},
   "exception": null,
   "input_path": "__notebook__.ipynb",
   "output_path": "__notebook__.ipynb",
   "parameters": {},
   "start_time": "2024-01-28T04:48:23.144099",
   "version": "2.4.0"
  }
 },
 "nbformat": 4,
 "nbformat_minor": 5
}
