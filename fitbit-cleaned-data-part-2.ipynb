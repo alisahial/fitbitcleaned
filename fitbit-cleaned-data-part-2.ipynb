{
 "cells": [
  {
   "cell_type": "markdown",
   "id": "549ca7fd",
   "metadata": {
    "papermill": {
     "duration": 0.003946,
     "end_time": "2024-01-28T04:51:26.278456",
     "exception": false,
     "start_time": "2024-01-28T04:51:26.274510",
     "status": "completed"
    },
    "tags": []
   },
   "source": []
  },
  {
   "cell_type": "markdown",
   "id": "45f9c8e0",
   "metadata": {
    "papermill": {
     "duration": 0.00306,
     "end_time": "2024-01-28T04:51:26.284963",
     "exception": false,
     "start_time": "2024-01-28T04:51:26.281903",
     "status": "completed"
    },
    "tags": []
   },
   "source": []
  },
  {
   "cell_type": "markdown",
   "id": "26fcbe77",
   "metadata": {
    "papermill": {
     "duration": 0.002952,
     "end_time": "2024-01-28T04:51:26.291158",
     "exception": false,
     "start_time": "2024-01-28T04:51:26.288206",
     "status": "completed"
    },
    "tags": []
   },
   "source": []
  },
  {
   "cell_type": "markdown",
   "id": "4d6c77c1",
   "metadata": {
    "papermill": {
     "duration": 0.003013,
     "end_time": "2024-01-28T04:51:26.297324",
     "exception": false,
     "start_time": "2024-01-28T04:51:26.294311",
     "status": "completed"
    },
    "tags": []
   },
   "source": []
  },
  {
   "cell_type": "markdown",
   "id": "1796fbd6",
   "metadata": {
    "papermill": {
     "duration": 0.00292,
     "end_time": "2024-01-28T04:51:26.303492",
     "exception": false,
     "start_time": "2024-01-28T04:51:26.300572",
     "status": "completed"
    },
    "tags": []
   },
   "source": []
  },
  {
   "cell_type": "markdown",
   "id": "796e9795",
   "metadata": {
    "papermill": {
     "duration": 0.002926,
     "end_time": "2024-01-28T04:51:26.309597",
     "exception": false,
     "start_time": "2024-01-28T04:51:26.306671",
     "status": "completed"
    },
    "tags": []
   },
   "source": []
  },
  {
   "cell_type": "markdown",
   "id": "2bc4c54c",
   "metadata": {
    "papermill": {
     "duration": 0.002899,
     "end_time": "2024-01-28T04:51:26.315743",
     "exception": false,
     "start_time": "2024-01-28T04:51:26.312844",
     "status": "completed"
    },
    "tags": []
   },
   "source": [
    "**CONCLUSION**: Calculating \"wasted time\" in bed (minutes in bed - minutes asleep) provided insights into sleep quality. Notably, most users showed low \"wasted time,\" suggesting efficient sleep cycles and potentially good sleep quality."
   ]
  },
  {
   "cell_type": "markdown",
   "id": "26d042ee",
   "metadata": {
    "papermill": {
     "duration": 0.002965,
     "end_time": "2024-01-28T04:51:26.321886",
     "exception": false,
     "start_time": "2024-01-28T04:51:26.318921",
     "status": "completed"
    },
    "tags": []
   },
   "source": [
    "Next we see the Relationship between avg minutes of sleep and calories burned per user"
   ]
  },
  {
   "cell_type": "markdown",
   "id": "350edfa8",
   "metadata": {
    "papermill": {
     "duration": 0.003041,
     "end_time": "2024-01-28T04:51:26.328122",
     "exception": false,
     "start_time": "2024-01-28T04:51:26.325081",
     "status": "completed"
    },
    "tags": []
   },
   "source": [
    "SELECT ACTIVITY.Id, \n",
    "  ROUND(avg(ACTIVITY.total_steps),2) AS AvgTotalSteps,\n",
    "   ROUND(avg(ACTIVITY.calories),2) AS AvgCalories,\n",
    "   ROUND(avg(SLEEP.total_minutes_asleep),2) AS AvgTotalMinutesAsleep\n",
    "FROM `fluid-tuner-406721.FitBit_Case_Study.daily_activity` AS ACTIVITY\n",
    "  INNER JOIN fluid-tuner-406721.FitBit_Case_Study.daily_sleep AS SLEEP\n",
    "  ON ACTIVITY.id = SLEEP.id\n",
    "GROUP BY ACTIVITY.Id"
   ]
  },
  {
   "cell_type": "markdown",
   "id": "330db6e9",
   "metadata": {
    "papermill": {
     "duration": 0.003471,
     "end_time": "2024-01-28T04:51:26.335011",
     "exception": false,
     "start_time": "2024-01-28T04:51:26.331540",
     "status": "completed"
    },
    "tags": []
   },
   "source": [
    "**CONCLUSION**: The relationship between People who slept better and burned calories seems to be positive!"
   ]
  },
  {
   "cell_type": "markdown",
   "id": "2e817eda",
   "metadata": {
    "papermill": {
     "duration": 0.002871,
     "end_time": "2024-01-28T04:51:26.341060",
     "exception": false,
     "start_time": "2024-01-28T04:51:26.338189",
     "status": "completed"
    },
    "tags": []
   },
   "source": [
    "### 5.10  METs analysis  <a class=\"anchor\" id=\"METs\"></a>\n",
    "\n",
    "* Q. What is METs?\n",
    "     * MET: The ratio of the work metabolic rate to the resting metabolic rate. One MET is defined as 1 kcal/kg/hour. The **metabolic equivalent of task (MET)** is the objective measure of the ratio of the rate at which a person expends energy equivalent to the energy cost of sitting down."
   ]
  },
  {
   "cell_type": "markdown",
   "id": "fd39581f",
   "metadata": {
    "papermill": {
     "duration": 0.002988,
     "end_time": "2024-01-28T04:51:26.347294",
     "exception": false,
     "start_time": "2024-01-28T04:51:26.344306",
     "status": "completed"
    },
    "tags": []
   },
   "source": [
    "* MET values here are divided by 10 because according to meta data of the dataset: \"All MET values exported from Fitabase are multiplied by 10. Please divide by 10 to get accurate MET values\""
   ]
  },
  {
   "cell_type": "markdown",
   "id": "74dfd3ba",
   "metadata": {
    "papermill": {
     "duration": 0.003592,
     "end_time": "2024-01-28T04:51:26.354852",
     "exception": false,
     "start_time": "2024-01-28T04:51:26.351260",
     "status": "completed"
    },
    "tags": []
   },
   "source": [
    "--METs\n",
    "\n",
    "SELECT DISTINCT temp1.id, \n",
    "    temp1.activity_minute, \n",
    "    SUM(temp1.METs)/24 as avg_mets, \n",
    "    temp2.Calories\n",
    "FROM `fluid-tuner-406721.FitBit_Case_Study.METs_minute` as temp1\n",
    "INNER JOIN fluid-tuner-406721.FitBit_Case_Study.daily_activity AS temp2\n",
    "ON temp1.id = temp2.id \n",
    "Group By temp1.Id, temp1.activity_minute, temp2.Calories\n",
    "Order by Id,activity_minute;"
   ]
  },
  {
   "cell_type": "markdown",
   "id": "f4a4b79c",
   "metadata": {
    "papermill": {
     "duration": 0.003126,
     "end_time": "2024-01-28T04:51:26.361269",
     "exception": false,
     "start_time": "2024-01-28T04:51:26.358143",
     "status": "completed"
    },
    "tags": []
   },
   "source": [
    "![](http://)"
   ]
  },
  {
   "cell_type": "markdown",
   "id": "9152d234",
   "metadata": {
    "papermill": {
     "duration": 0.003016,
     "end_time": "2024-01-28T04:51:26.367552",
     "exception": false,
     "start_time": "2024-01-28T04:51:26.364536",
     "status": "completed"
    },
    "tags": []
   },
   "source": [
    "**CONCLUSION**: Our data reveals a positive link between METs (activity level) and calorie burn."
   ]
  },
  {
   "cell_type": "markdown",
   "id": "8a4b8416",
   "metadata": {
    "papermill": {
     "duration": 0.003036,
     "end_time": "2024-01-28T04:51:26.373772",
     "exception": false,
     "start_time": "2024-01-28T04:51:26.370736",
     "status": "completed"
    },
    "tags": []
   },
   "source": [
    "## <font color='#E2A76F'>6. ACT Phase</font> <a class=\"anchor\" id=\"act\"></a>\n",
    "\n",
    "### 6.1 Conclusion <a class=\"anchor\" id=\"conclusion\"></a> \n",
    "\n",
    "The global fitness tracker market size was valued at 47 billion dollar in 2022 & is projected to grow from  53.94 billion dollar  in 2023 to $182.90 billion by 2030. To succeed in this competitive market, the fitness band company needs to have a strong marketing strategy. By diving into Fitbit user data, we gain invaluable insights into real-world fitness watch usage. This unveils both market gaps and user preferences, empowering us to tailor Bellabeat and highlight features that truly resonate with the audience. The most important data points is as follows:\n",
    "\n",
    "* 1. _High engagement_: 64% of users logged data for the entire data time period of 31 days. This shows that users are actively tracking their progress.\n",
    "\n",
    "* 2. _Potential for improvement_: 8% of non-usage (72 missed wearings) indicates room for improvement in encouraging consistent wear. Tuesday emerges as the day with the most missed wearings. \n",
    "\n",
    "* 3. _CDC Activity Length Recommendations_:  On average, 27 of the 33 users met the CDC Activity Length Recommendations, while 6 did not (Very Active, Fairly Active & Lightly active minutes together). \n",
    "\n",
    "* 4. _High average sedentary minutes_: Average sedentary minutes of 931.78 minutes (15 hours 31.78 minutes). The average sedentary time might be higher than recommended guidelines. For instance, some health organizations recommend limiting sitting time to less than 8 hours per day. 81% of the time by all users was spent on sedentary time hence they possibly have a less active lifestyle.\n",
    " \n",
    "* 5.  Very active minutes, fairly active minutes & Lightly active minutes rise a little during Saturdays and similarly sedendary activity does fall a little suggesting users are more likely to engage in physical activities on weekends compared to weekdays. Weekends present an opportunity to encourage and sustain healthy activity levels. By delving deeper into the reasons behind this trend and tailoring interventions accordingly, you can help users maintain a more active lifestyle throughout the week.\n",
    " \n",
    "* 6. 5 PM -7 PM is the duration of highest calories burned and hence could be the desired time of workout for all the users combined on an average.\n",
    "  \n",
    "* 7. The relationship between People who slept better and burned calories seems to be positive. Users averaging around 7 hours of sleep consistently. "
   ]
  },
  {
   "cell_type": "markdown",
   "id": "f9992709",
   "metadata": {
    "papermill": {
     "duration": 0.00303,
     "end_time": "2024-01-28T04:51:26.380179",
     "exception": false,
     "start_time": "2024-01-28T04:51:26.377149",
     "status": "completed"
    },
    "tags": []
   },
   "source": [
    "### 6.2 Recommendations <a class=\"anchor\" id=\"recommendations\"></a>\n",
    "\n",
    "**_1. Digital Marketting_**:\n",
    "\n",
    "   **A. Partner with influencers to promote Ivy health tracker**: As seen in the above analysis, all 33 users have logged in  step, activity instensity and calorie burned features on Fitbit, Bellabeat can effectively reach its target audience by partnering with relevant influencers: a fitness expert and a registered dietitian. They can also offer exclusive discounts and promotions to influencers' followers. Schedule social media posts and email campaigns for early morning audiences.\n",
    "   \n",
    "   \n",
    "   **B. Run targeted advertising campaigns on social media and search engines**: The data tells one thing: That 81% of the time by all users was spent on sedentary time hence they possibly have a desk job. Therefore we can Craft targeted ads showcasing Bellabeat's features like activity reminders and step challenges as the antidote to sedentary desk jobs. Target platforms frequented by professional women on Facebook, LinkedIn, and fitness-focused Instagram accounts.\n",
    "   \n",
    "  **C.Create engaging social media content**: Since social media is the prefered mode of advertisment for Bellabeat. We can feature real Bellabeat users sharing their fitness journeys, showcasing product features, and offering helpful tips. Feature inspiring stories of women overcoming challenges and achieving their goals with Bellabeat by their side.\n",
    "   \n",
    "   **D. Search Engine Optimization (SEO)** : Optimize BellaBeat's website and content for relevant keywords like \"women's fitness tracker,\" \"desk job wellness,\" and \" menstrual cycle recorder\", \"pregnancy-safe workouts\" to reach potential customers organically.\n",
    "   \n",
    " **_2. Embrace Heart and Weight_** : Analyze the underutilized features like heart rate and weight tracking. Consider developing content, challenges, or integrations focused on these aspects to cater to a wider range of user interests and goals which could be a possible market gap. \n",
    "\n",
    "**_3.Segmentation and Targeting_**:\n",
    "\n",
    "   **A. Data insights reveal a key opportunity: some customers bought the fitbit band but haven't fully embraced its potential. For such existing customers following approach can be followed**\n",
    "\n",
    "* 1. _Personalized nudges_: Trigger targeted emails highlighting the benefits of increased activity based on individual user data. Showcase how small, attainable steps lead to big health improvements.\n",
    "* 2. _Playful motivators_: Send gentle app notifications reminding users to move, offering playful challenges based on their inactivity patterns. Celebrate milestones with virtual high-fives and encourage progress with fun rewards.\n",
    "* 3. _Sleep for Strength_: Leverage sleep data to send personalized app notifications with sleep coaching tips. Emphasize the link between quality sleep and boosted energy, improved activity levels, and overall well-being.\n",
    "* 4. _Challenge them to shine_: Design bite-sized nightly sleep challenges, like achieving a specific sleep duration or maintaining a consistent sleep schedule, to encourage healthy sleep habits in a fun and engaging way.\n",
    "\n",
    "**B. Position the band as the \"after-work empowerment tool\"**: Since Post-office workouts seem to be popular amongst our sample group we can frame evening workouts as a way to de-stress, boost energy, and reclaim control after a busy day. \n",
    "      \n",
    "**_4. Emphasize data and insights_** : Fitbit is known for its data-driven approach to fitness tracking. The brand uses data to provide users with insights into their activity levels, sleep patterns, and overall health. Bellabeat can differentiate itself by offering even more advanced data and insights, such as personalized fitness plans, health recommendations, and integration with other health apps.\n",
    "\n",
    "**_5. Community Connection_** : Foster a vibrant online community through social media groups, interactive forums, and virtual workout sessions. Encourage users to share tips, support each other, and celebrate achievements together.\n",
    "\n",
    "**_6. Product Development and Improvement_**:\n",
    "  * A. Our data shows the sample users as early risers. Develop features specifically for early mornings, like customizable sunrise alarms, guided meditation sessions for stress reduction, or benefit of a quick workout routines for before work.\n",
    "  * B. Weekly progress report with segregation of weekday-weekend reports can be given to users to keep them motivated for the whole week. \n",
    "\n",
    "**Additional Considerations**\n",
    "* 1. Data privacy: Ensure you comply with all data privacy regulations and protect user data.\n",
    "* 2. Ethical marketing: Avoid using misleading or deceptive marketing practices.\n",
    "* 3. Transparency: Be transparent about your data collection and usage practices."
   ]
  },
  {
   "cell_type": "markdown",
   "id": "f42e9365",
   "metadata": {
    "papermill": {
     "duration": 0.002983,
     "end_time": "2024-01-28T04:51:26.386361",
     "exception": false,
     "start_time": "2024-01-28T04:51:26.383378",
     "status": "completed"
    },
    "tags": []
   },
   "source": []
  }
 ],
 "metadata": {
  "kaggle": {
   "accelerator": "none",
   "dataSources": [],
   "isGpuEnabled": false,
   "isInternetEnabled": true,
   "language": "python",
   "sourceType": "notebook"
  },
  "kernelspec": {
   "display_name": "Python 3",
   "language": "python",
   "name": "python3"
  },
  "language_info": {
   "codemirror_mode": {
    "name": "ipython",
    "version": 3
   },
   "file_extension": ".py",
   "mimetype": "text/x-python",
   "name": "python",
   "nbconvert_exporter": "python",
   "pygments_lexer": "ipython3",
   "version": "3.10.12"
  },
  "papermill": {
   "default_parameters": {},
   "duration": 4.855732,
   "end_time": "2024-01-28T04:51:26.709003",
   "environment_variables": {},
   "exception": null,
   "input_path": "__notebook__.ipynb",
   "output_path": "__notebook__.ipynb",
   "parameters": {},
   "start_time": "2024-01-28T04:51:21.853271",
   "version": "2.4.0"
  }
 },
 "nbformat": 4,
 "nbformat_minor": 5
}
